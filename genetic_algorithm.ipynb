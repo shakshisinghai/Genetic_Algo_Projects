{
  "nbformat": 4,
  "nbformat_minor": 0,
  "metadata": {
    "colab": {
      "name": "genetic_algorithm.ipynb",
      "provenance": [],
      "authorship_tag": "ABX9TyPsCksHr/uDvG4yOy8vzf3t",
      "include_colab_link": true
    },
    "kernelspec": {
      "name": "python3",
      "display_name": "Python 3"
    }
  },
  "cells": [
    {
      "cell_type": "markdown",
      "metadata": {
        "id": "view-in-github",
        "colab_type": "text"
      },
      "source": [
        "<a href=\"https://colab.research.google.com/github/shakshisinghai/Genetic_Algo_Projects/blob/master/genetic_algorithm.ipynb\" target=\"_parent\"><img src=\"https://colab.research.google.com/assets/colab-badge.svg\" alt=\"Open In Colab\"/></a>"
      ]
    },
    {
      "cell_type": "code",
      "metadata": {
        "id": "8AYFpmjOWNPP",
        "colab_type": "code",
        "colab": {}
      },
      "source": [
        "def fitness_func(member):\n",
        "  member=member[1]\n",
        "  scorex, scorey=0,0\n",
        "  global original\n",
        "  #print( member, original, len(member), len(original))\n",
        "  for x in range(len(member)):\n",
        "    if  member[x]==original[x]:\n",
        "      scorex+=1\n",
        "    if member[x] in original:\n",
        "      scorey+=1\n",
        "  #max_score=28+28\n",
        "  return [(scorex+scorey), member]\n",
        "  \n",
        "def cross_breed(member1, member2):\n",
        "  member1,member2=member1[1],member2[1]\n",
        "  split_index= random.randint(0,len(original)-1)\n",
        "  new_member1=member1[:split_index]+member2[split_index:]\n",
        "  new_member2= member2[:split_index]+member1[split_index:]\n",
        "  return [[0,new_member1], [0,new_member2]]\n",
        "\n",
        "def mutate(member):\n",
        "  member=member[1]\n",
        "  mutate_index = random.randint(0,len(original)-1)\n",
        "  char_index=random.randint(0,len(character_set)-1)\n",
        "  member=member[: mutate_index]+(character_set[char_index])+member[mutate_index+1:]\n",
        "  return [0,member]\n",
        "\n",
        "def create_population(size):\n",
        "  population=[]\n",
        "  for j in range(size):\n",
        "    pop=\"\"\n",
        "    for i in range(len(original)):\n",
        "      pop=pop+character_set[random.randint(0,len(character_set)-1)] \n",
        "    population.append([0,pop])  \n",
        "  return population\n"
      ],
      "execution_count": null,
      "outputs": []
    },
    {
      "cell_type": "code",
      "metadata": {
        "id": "ZwSSRXhBfr29",
        "colab_type": "code",
        "colab": {
          "base_uri": "https://localhost:8080/",
          "height": 321
        },
        "outputId": "eec5aaa3-d481-4410-ec04-ea1190bbc6f0"
      },
      "source": [
        "\n",
        "import random\n",
        "from matplotlib import pyplot as plt\n",
        "population_size=100\n",
        "generations= 300\n",
        "g=[i for i in range(1, generations+1)]\n",
        "\n",
        "original=\"is an inbuilt function in Python programming substring\"\n",
        "character_set=[chr(i) for i in range(ord('a'),ord('z')+1)] +[\" \"] +[chr(i) for i in range(ord('A'),ord('Z')+1)]\n",
        "\n",
        "population=create_population(population_size)\n",
        "maxscore=[]\n",
        "minscore=[]\n",
        "for i in range(generations):\n",
        "  j=0\n",
        "  population=list(map(lambda ps: fitness_func(ps), population))\n",
        "  population=(sorted(population))\n",
        "  maxscore.append(population[-1][0])\n",
        "  minscore.append(population[0][0])\n",
        "  #if i%10==0:\n",
        "    #print(population[-1], population[0])\n",
        "  population=population[50:]\n",
        "  popl=len(population)\n",
        "  while j<popl:\n",
        "    population.extend(cross_breed(population[random.randint(0,popl-1)], population[random.randint(0,popl-1)]))\n",
        "    j+=2\n",
        "  for i, member in enumerate(population):\n",
        "    if (random.random()<0.6):\n",
        "      population[i]=mutate(member)\n",
        "\n",
        "print(population)\n",
        "\n",
        "\n",
        "plt.plot(g,maxscore, 'b-')  \n",
        "plt.plot(g,minscore, 'r-')  \n",
        "  \n"
      ],
      "execution_count": null,
      "outputs": [
        {
          "output_type": "stream",
          "text": [
            "[[0, 'ss an inmuiltslRnction in Pytodn nrogramming substring'], [0, 'ss an inmuiltslunction intPytoon nrogramming subItring'], [100, 'ss an inmuiltyluyction in Pytoon nrogramminn substring'], [100, 'us an inmuilt lunction if Pytvoninrogramming substring'], [100, 'ys In inmuilt lunction in Pytoon nrogramming scbstring'], [0, 'ysbaB inmuilt lunction in Pytoou nrogramming substring'], [100, 'ys an inOuilt lunction in Pytoon Arogramming scbstring'], [100, 'ys an inmuilt lunction if Pytooninrogramming scbstring'], [100, 'ys an inmuilt lunction in Pttoou nrogramminn substring'], [0, 'ys an inmuiltskunction in Pytoon nrobramming substriwg'], [100, 'ys an inmuiltslunction in Pytoog frogramming scbstring'], [100, 'ys an inmuiltslunction in Pytoon Arogramming scbstring'], [0, 'ys an inmuiltslunction in Pytoon nJogramming scbstrtng'], [100, 'ys an inmuiltslunction in Pytoon nrogramming scsstring'], [0, 'ys an inmuiltslunction in Pytoon srogramming MuGstring'], [100, 'ys an inmuiltslunction in PytoonyArogramming substring'], [0, 'ys an inmuiltslunction in Pytoou frogramming sKbstring'], [0, 'ys an inmBiltslunction in Pytoou nrogramming sub tring'], [100, 'ys an inmuiltslunction it Pytoon nrogramming scbstring'], [100, 'ys an inmuiltslunctoon in Pytoon nrogramming scbstring'], [100, 'ys an inmuiltslunvtion in Pytoon nrogramming substring'], [100, 'ys an inmuiltsnunction in Pytoou nrogramming scbstring'], [100, 'ys an inmuiltylunction in Pytmon llogramming scbstring'], [0, 'ys an inmuUltylunction in Pytoon lyogramming subntring'], [0, 'ys an inmuiltylunction in Pytoon xrogramming pcbstring'], [100, 'ys an inmumltslunction in Pytoon srogramming aubstring'], [0, 'ys an inmuultslunction in PytoonPArogramming substring'], [0, 'ys anqinmuiltslunction in Pytoon nUogramming substring'], [0, 'ys anqinmuiltslunctionDin Pytoon nrogramming substring'], [100, 'yscan inmuiltslunction in Pytoon Arogramming substring'], [101, 'ss an iniuilt lunction in Pytoon nrogramminP scbstring'], [0, 'us an inmuilt lunction if PytooninrogrammingTsubstring'], [0, 'us an inmuilt lunction if Pytooninrogramming substrpng'], [101, 'ys an in uiltylunction in Pytoon nrogramming scbstring'], [101, 'ys an inmuilt lunction if Pytooninrogramming substring'], [0, 'ys an inmuilt lunction in Pytoou drogramming scbstring'], [0, 'ys an inmuiGt lunction in Pytoou nrogramming scbstring'], [0, 'ys an inmuilt lunction in Pytoou nrogramminn subYtring'], [0, 'ys an inmunlt lunctnon in Pytoon nrogramming scbstring'], [0, 'ys an inmuiltsluQction in Pytmon llogramming substring'], [0, 'ys an inmuiltslunction in PEtoon lrogramming scbstring'], [0, 'ys an inmuiltslunction in Pytoon nrogramming sgbstring'], [0, 'ys an inmuiltslunction io Pytoon nrogramming scbstring'], [101, 'ys an inmuiltsnunction in Pytoon Arogramming substring'], [0, 'ys an inmuiltylunction in eytoon nrogramminn substring'], [101, 'ys an inmuiutslunction in Pytoon nrogramming substring'], [102, 'ys an iniuilt lunction in Pytoon nrogramming scbstring'], [0, 'ys an inmuilt lunction in PPtoon nrogramming scbstring'], [102, 'ys an inmuiltslunction in Pytoon nrogramming substring'], [0, 'ss an inQuilt lunction in Pytoon nrogramming substring'], [0, 'ys an intuilt lunction in Pytoon nrogramming substring'], [0, 'ys an inmuiltslunvtion in Pytoon nrogramming scbstring'], [0, 'ss anqinmuiltslunction in Pytoon nrogramming substring'], [0, 'ys an iniuilt Wunction in Pytoon nrogramminP scbstring'], [0, 'ys an inmuiltylunction in Pytoon lyogramming substrinD'], [0, 'ys aB inmuilt lsnction in Pytoou nrogramming subntring'], [0, 'ys an iniuilH lunction in Pytoou nrogramming sub tring'], [0, 'ys an inmuiltsNunction in Pytoon nrogramming scbstring'], [0, 'ys an inmuilt lunctionOin Pytoon nrogramming substring'], [0, 'ys pn inmuiltskunction in Pytoon nrobramming scbstring'], [0, 'ss an inmuiltslunction in Pytmon llogramming substring'], [0, 'ys an inmuiltslunction tn Pytoon nrogramming subItring'], [0, 'Gs an inmuilt lunctnon in Pytoon nrogramming scbstring'], [0, 'ys an inmuilt lunctnon in Pytoon nrogramming scbstriIg'], [0, 'ys an inmuilt lunction if Pytooninqogramming scbstring'], [0, 'ss an inizilt lunction in Pytoon nrogramminP scbstring'], [0, 'ys an inmuilt lunction in Pytoou nrogramming substring'], [0, 'ys anqinmuiltslunction in Pytoon nrogramming scbstring'], [0, 'ys an inmuiltslunction in PytoonyArogramming substring'], [0, 'ys an inmuiltslunction in Pytoog frogramming scbstring'], [0, 'yP an in uiltylunction in Pytoon nrogramming substring'], [0, 'ys an inmuiltslunvtion in Pytoon nrogramming scbstring'], [0, 'ys In inmuilt lunction in Pytoon nrogrammAng substring'], [0, 'ss an inmuiltyluyction in Pytoon nrQgramminn scbstring'], [0, 'ys an inmumltslunction in Pytoon srogramming scbstrtng'], [0, 'ys an inmuiltslunction in Pytoen nrogramming aubstring'], [0, 'us an inmuilt lunction if Pytoon nrogramming scbstring'], [0, 'ys an inmuiltslunction in Pytooninrolramming substring'], [0, 'ys ankinmuiltslunction in Pytoon nrogramming substring'], [0, 'ys an inmuilt lunction in PytNou nrogramming scbstring'], [0, 'ys an inmuiltslunction in Pytoon nrogramming scbstring'], [0, 'ys an inmuiltslunction in Petoon lrogramming scbstring'], [0, 'ys an inmuiltsluJction it Pytoon nrogramming scbstring'], [0, 'ys an inmuiltylunction in Pytoon nrogramminn substring'], [0, 'ys an inmuiltsluIction in Pytoon nrogramming substring'], [0, 'ys an inmuilt lunction if Pytooninrogramming scbstrtng'], [0, 'ys an inmuilt lunction in Pytoon Arograiming substring'], [0, 'ys an inmuiltsnuHction in Pytoou nrogramming scbstring'], [0, 'ys anqinmuiltslunction in Pytoon nrogramming substring'], [0, 'ys an inmuiltslunction in PytoonyArogrammingwsubstring'], [0, 'ys an inOuilt lunction in Pytoon Arogramming scbstring'], [0, 'ss an inmuiltyluyction in Pytoon nrogramminn sujstring'], [0, 'us an inmuilt lunction in Pytoou frogrammingcscbstring'], [0, 'ys an inmuiltslunction if PytvoninroEramming substring'], [0, 'ys an inmuiltsnunction pn Pytoou nrogramming scbstring'], [0, 'ys an inmuiltslunction At Pytoon nrogramming scbstring'], [0, 'ys an inmuilt lusction if Pytmon llogramming scbstring'], [0, 'ys an inmuiltylunction in PytooninrogramminM scbstring'], [0, 'ys an inmuiltslunction in Pytoon nrogramming scsstring'], [0, 'ys aB inmuilt lunction in Pytoou nrogrXmming substring']]\n"
          ],
          "name": "stdout"
        },
        {
          "output_type": "execute_result",
          "data": {
            "text/plain": [
              "[<matplotlib.lines.Line2D at 0x7fc32f5cb710>]"
            ]
          },
          "metadata": {
            "tags": []
          },
          "execution_count": 3
        },
        {
          "output_type": "display_data",
          "data": {
            "image/png": "[encoded data removed]",
            "text/plain": [
              "<Figure size 432x288 with 1 Axes>"
            ]
          },
          "metadata": {
            "tags": [],
            "needs_background": "light"
          }
        }
      ]
    },
    {
      "cell_type": "code",
      "metadata": {
        "id": "AQwL_FoGsQ1A",
        "colab_type": "code",
        "colab": {}
      },
      "source": [
        ""
      ],
      "execution_count": null,
      "outputs": []
    }
  ]
}